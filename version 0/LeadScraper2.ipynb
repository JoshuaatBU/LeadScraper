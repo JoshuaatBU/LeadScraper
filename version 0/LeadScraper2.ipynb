{
 "cells": [
  {
   "cell_type": "code",
   "execution_count": 1,
   "metadata": {},
   "outputs": [],
   "source": [
    "import requests\n",
    "import json\n",
    "response = requests.get(\"https://www.saferproducts.gov/RestWebServices/Recall?format=json&RecallTitle=Lead\")\n"
   ]
  },
  {
   "cell_type": "code",
   "execution_count": 6,
   "metadata": {},
   "outputs": [],
   "source": [
    "if(response.status_code):\n",
    "    try:\n",
    "        f = open(\"recallIDLog.txt\",\"r\")\n",
    "        currIDs = f.readlines()\n",
    "        currID = int(currIDs[0])\n",
    "        f.close()\n",
    "        f = open(\"recallIDLog.txt\",\"w\")\n",
    "        fDescs = open(\"recallDescs.txt\",\"w\")\n",
    "    except:\n",
    "        f = open(\"recallIDLog.txt\",\"w\")\n",
    "        fDescs = open(\"recallDescs.txt\",\"w\")\n",
    "        description = response.json()[0]['Hazards'][0]['Name']\n",
    "        remedy = response.json()[0]['ConsumerContact']\n",
    "        currID = response.json()[0]['RecallID']\n",
    "        name = response.json()[0][\"Products\"][0][\"Name\"]\n",
    "        f.write(\"%d \\r\\n\" % currID)\n",
    "        fDescs.write(\"%s \\r\\n %s \\r\\n %s \\r\\n\" % (name,description,remedy))\n",
    "    ii = 0;\n",
    "    recallID = response.json()[ii]['RecallID']\n",
    "    while(currID<recallID):\n",
    "        recallID = response.json()[ii]['RecallID']\n",
    "        description = response.json()[ii]['Hazards'][0]['Name']\n",
    "        remedy = response.json()[ii]['ConsumerContact']\n",
    "        name = response.json()[ii][\"Products\"][0][\"Name\"]\n",
    "        f.write(\"%d \\r\\n\" % recallID)\n",
    "        fDescs.write(\"%s \\r\\n %s \\r\\n %s \\r\\n\" % (name,description,remedy))\n",
    "        ii = ii+1\n",
    "    f.close()\n",
    "    fDescs.close()"
   ]
  },
  {
   "cell_type": "code",
   "execution_count": 5,
   "metadata": {},
   "outputs": [],
   "source": [
    "f.close()\n",
    "fDescs.close()"
   ]
  },
  {
   "cell_type": "code",
   "execution_count": null,
   "metadata": {},
   "outputs": [],
   "source": []
  }
 ],
 "metadata": {
  "kernelspec": {
   "display_name": "Python 3",
   "language": "python",
   "name": "python3"
  },
  "language_info": {
   "codemirror_mode": {
    "name": "ipython",
    "version": 3
   },
   "file_extension": ".py",
   "mimetype": "text/x-python",
   "name": "python",
   "nbconvert_exporter": "python",
   "pygments_lexer": "ipython3",
   "version": "3.7.4"
  }
 },
 "nbformat": 4,
 "nbformat_minor": 2
}
